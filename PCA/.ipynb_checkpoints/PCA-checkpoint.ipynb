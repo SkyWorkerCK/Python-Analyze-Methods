{
 "cells": [
  {
   "cell_type": "markdown",
   "metadata": {
    "collapsed": true
   },
   "source": [
    "PCA算法流程\n",
    "\n",
    "算法输入：数据集Xmxn\n",
    "* 按列计算数据集X的均值Xmean，然后令Xnew=X−Xmean； \n",
    "* 求解矩阵Xnew的协方差矩阵，并将其记为Cov； \n",
    "* 计算协方差矩阵COv的特征值和相应的特征向量； \n",
    "* 将特征值按照从大到小的排序，选择其中最大的k个，然后将其对应的k个特征向量分别作为列向量组成特征向量矩阵Wnxk; \n",
    "* 计算XnewW，即将数据集Xnew投影到选取的特征向量上，这样就得到了我们需要的已经降维的数据集XnewW。\n",
    "\n",
    "注意，计算一个nxn矩阵的完整的特征向量分解的时间复杂度为 O(n3) 。如果我们将数据集投影到前 k 个主成分中，那么我们只需寻找前 k 个特征值和特征向量。这可以使用更高效的方法得到,例如幂方法(power method) (Golub and Van Loan, 1996)，它的时间复杂度为 O(kn2)，或者我们也可以使用 EM 算法。\n"
   ]
  },
  {
   "cell_type": "code",
   "execution_count": 27,
   "metadata": {},
   "outputs": [
    {
     "name": "stdout",
     "output_type": "stream",
     "text": [
      "(150, 4)\n"
     ]
    },
    {
     "data": {
      "image/png": "[encoded data removed]",
      "text/plain": [
       "<matplotlib.figure.Figure at 0x2366903b128>"
      ]
     },
     "metadata": {},
     "output_type": "display_data"
    }
   ],
   "source": [
    "# 主成分分析 PCA\n",
    "# 数据集采用的sklearn中的鸢尾花数据集    iris.csv\n",
    "import numpy as np\n",
    "import pandas as pd\n",
    "import matplotlib.pyplot as plt\n",
    "%matplotlib inline\n",
    "\n",
    "# 计算均值，要求输入的矩阵格式为numpy的矩阵格式，行表示样本数，列表示特征\n",
    "def meanX(dataX):\n",
    "    return np.mean(dataX, axis=0)               # 按照列来求均值\n",
    "\n",
    "\n",
    "\"\"\"\n",
    "參数：\n",
    "    - XMat：传入的是一个numpy的矩阵格式，行表示样本数，列表示特征    \n",
    "    - k：表示取前k个特征值相应的特征向量\n",
    "返回值：\n",
    "    - finalData：參数一指的是返回的低维矩阵，相应于输入參数二\n",
    "    - reconData：參数二相应的是移动坐标轴后的矩阵\n",
    "\"\"\"\n",
    "\n",
    "def PCA(XMat, k):\n",
    "#     print(XMat)\n",
    "    average = meanX(XMat)                       # average为按列求平均后的数组\n",
    "    m, n = np.shape(XMat)                       # m代表行，n代表列\n",
    "    data_adjust = []\n",
    "    avgs = np.tile(average, (m, 1))\n",
    "    data_adjust = XMat - avgs\n",
    "    covX = np.cov(data_adjust.T)                # 计算协方差矩阵      data_adjust矩阵进行转置，用特征数作为行\n",
    "    featValue, featVec = np.linalg.eig(covX)    # 计算协方差的特征值和特征向量\n",
    "#     print(featVec.shape)\n",
    "    index = np.argsort(-featValue)              # 按照featValue中从大到小的顺序的引索赋值给index\n",
    "    finalData = []\n",
    "    if k > n:\n",
    "        print(\"k must lower than n\")\n",
    "        return \n",
    "    else:\n",
    "        # 筛选出排好序的前 k 特征向量\n",
    "        selectVec = np.matrix(featVec.T[index[:k]])                   # index[:k]表示index中前 k 个元素\n",
    "        finalData = data_adjust * selectVec.T\n",
    "        reconData = (finalData * selectVec) + average                 # 恢复原有矩阵为s输入时的矩阵\n",
    "    return finalData, reconData\n",
    "    \n",
    "    \n",
    "# 由于我将维数k指定为2，所以能够使用以下这个函数将其绘制出来\n",
    "def plotBestFit(data1, data2):                                       # data1为降维后的数据，data2为降维前的数据\n",
    "    dataArr1 = np.array(data1)                                       # dataArr1为降维后的数据\n",
    "    dataArr2 = np.array(data2)                                       # dataArr2为降维前的数据\n",
    "    \n",
    "    m = np.shape(dataArr1)[0]                                        # 获取降维后矩阵的行  ==>  m\n",
    "    axis_x1 = []\n",
    "    axis_y1 = []\n",
    "    axis_x2 = []\n",
    "    axis_y2 = []\n",
    "    for i in range(m):\n",
    "        axis_x1.append(dataArr1[i, 0])                               # axis_x1/axis_y1 为取降维后数据的前两列\n",
    "        axis_y1.append(dataArr1[i, 1])\n",
    "        axis_x2.append(dataArr2[i, 0])                               # axis_x2/axis_y2 为取降维前数据的前两列\n",
    "        axis_y2.append(dataArr2[i, 1])\n",
    "        \n",
    "    fig = plt.figure()\n",
    "    ax = fig.add_subplot(1, 1, 1)\n",
    "    ax.scatter(axis_x1, axis_y1, s = 50, c='red', marker = 's')\n",
    "    ax.scatter(axis_x2, axis_y2, s = 50, c='blue')\n",
    "    plt.xlabel('x1')\n",
    "    plt.ylabel('x2')\n",
    "    plt.show()\n",
    "        \n",
    "\n",
    "# 主函数\n",
    "def main():\n",
    "    datafile = \"./iris.csv\"  \n",
    "    XMat = pd.read_csv(datafile)\n",
    "    XMat = XMat.values\n",
    "    XMat = XMat[:, 0:4]\n",
    "    XMat = XMat.astype(np.float)                                     # astype(np.float)  对数据类型进行转换\n",
    "    k = 2\n",
    "    return PCA(XMat, k)\n",
    "\n",
    "# 入口\n",
    "if __name__ == \"__main__\":\n",
    "    finalData, reconData = main()\n",
    "    plotBestFit(finalData, reconData)\n",
    "\n",
    "    \n",
    "# 蓝色部分为重构后的原始数据。红色则是提取后的二维特征！\n",
    "\n"
   ]
  },
  {
   "cell_type": "code",
   "execution_count": 51,
   "metadata": {},
   "outputs": [
    {
     "name": "stdout",
     "output_type": "stream",
     "text": [
      "[[0 1 2]\n",
      " [3 4 5]\n",
      " [6 7 8]]\n",
      "[[1.]\n",
      " [4.]\n",
      " [7.]]\n"
     ]
    },
    {
     "data": {
      "text/plain": [
       "array([[-1.,  0.,  1.],\n",
       "       [-1.,  0.,  1.],\n",
       "       [-1.,  0.,  1.]])"
      ]
     },
     "execution_count": 51,
     "metadata": {},
     "output_type": "execute_result"
    }
   ],
   "source": [
    "# 测试1\n",
    "import numpy as np\n",
    "\n",
    "data = np.arange(0, 9, ).reshape(3, 3)\n",
    "print(data)\n",
    "avg = data.mean(axis = 1)                          # mean()函数中 axis = 0 表示求列平均数\n",
    "                                                   # mean()函数中 axis = 1 表示求行平均数\n"
   ]
  },
  {
   "cell_type": "code",
   "execution_count": 52,
   "metadata": {},
   "outputs": [
    {
     "name": "stdout",
     "output_type": "stream",
     "text": [
      "[[1 2 3]\n",
      " [4 5 6]]\n",
      "<class 'numpy.ndarray'>\n",
      "<class 'list'>\n",
      "[[101 202 303]\n",
      " [104 205 306]]\n"
     ]
    }
   ],
   "source": [
    "# 测试2\n",
    "import numpy as np\n",
    "# 规则1：如果两个数组的维度不相同，那么小维度数组的形状将会在最左边补1.\n",
    "# 规则2：如果两个数组的形状在任何一个维度上都不匹配，那么数组的形状会沿着维度为1扩展以匹配另外一个数组的形状。\n",
    "# 规则3：如果两个数组的形状在任何一个维度上都不匹配并且没有任何一个维度为1,那么会引起异常。\n",
    "\n",
    "A = np.array([[1,2,3],[4,5,6]])\n",
    "result = A + [100, 200, 300]\n",
    "print(A)\n",
    "print(type(A))\n",
    "print(type([100, 200, 300]))\n",
    "print(result)"
   ]
  },
  {
   "cell_type": "code",
   "execution_count": 130,
   "metadata": {},
   "outputs": [
    {
     "name": "stdout",
     "output_type": "stream",
     "text": [
      "[[0 1 2 3 4]\n",
      " [5 6 7 8 9]]\n",
      "[[2.]\n",
      " [7.]]\n"
     ]
    },
    {
     "data": {
      "text/plain": [
       "array([[ 2.,  3.,  4.,  5.,  6.],\n",
       "       [12., 13., 14., 15., 16.]])"
      ]
     },
     "execution_count": 130,
     "metadata": {},
     "output_type": "execute_result"
    }
   ],
   "source": [
    "# 测试3\n",
    "import numpy as np\n",
    "\n",
    "# 参照 测试2 规则\n",
    "A = np.arange(0, 10, 1).reshape(2, 5)\n",
    "print(A)\n",
    "avg = A.mean(axis=1).reshape(A.shape[0], 1)\n",
    "print(avg)\n",
    "\n",
    "A + avg"
   ]
  },
  {
   "cell_type": "code",
   "execution_count": 136,
   "metadata": {},
   "outputs": [
    {
     "name": "stdout",
     "output_type": "stream",
     "text": [
      "True\n",
      "False\n"
     ]
    }
   ],
   "source": [
    "# 测试4\n",
    "# 深拷贝与浅拷贝得区别\n",
    "import numpy as np\n",
    "\n",
    "# 浅拷贝                # 两个指针指向同一地址\n",
    "A = [1,2,3]\n",
    "B = A\n",
    "print(B is A)\n",
    "\n",
    "# 深拷贝                # 重新开辟新的栈，两个指针指向不同地址\n",
    "A = [1,2,3]\n",
    "B = A.copy()\n",
    "print(B is A)"
   ]
  },
  {
   "cell_type": "code",
   "execution_count": 143,
   "metadata": {},
   "outputs": [
    {
     "name": "stdout",
     "output_type": "stream",
     "text": [
      "[[ 2 -3  1]\n",
      " [ 1 -2  1]\n",
      " [ 1 -3  2]]\n",
      "=-==============================\n",
      "[[0.57735027+0.j         0.84946664+0.j         0.84946664-0.j        ]\n",
      " [0.57735027+0.j         0.34188085-0.11423045j 0.34188085+0.11423045j]\n",
      " [0.57735027+0.j         0.17617591-0.34269135j 0.17617591+0.34269135j]]\n"
     ]
    }
   ],
   "source": [
    "# 测试5\n",
    "# 求解特征值和特征向量\n",
    "import numpy as np\n",
    "\n",
    "A = np.array([[2,-3,1],[1,-2,1],[1,-3,2]])\n",
    "print(A)\n",
    "print(\"=-==============================\")\n",
    "a, b = np.linalg.eig(A)\n",
    "print(b)"
   ]
  }
 ],
 "metadata": {
  "kernelspec": {
   "display_name": "Python 3",
   "language": "python",
   "name": "python3"
  },
  "language_info": {
   "codemirror_mode": {
    "name": "ipython",
    "version": 3
   },
   "file_extension": ".py",
   "mimetype": "text/x-python",
   "name": "python",
   "nbconvert_exporter": "python",
   "pygments_lexer": "ipython3",
   "version": "3.6.3"
  }
 },
 "nbformat": 4,
 "nbformat_minor": 2
}
