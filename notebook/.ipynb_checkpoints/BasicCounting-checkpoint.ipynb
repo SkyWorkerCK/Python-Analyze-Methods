{
 "cells": [
  {
   "cell_type": "code",
   "execution_count": 20,
   "metadata": {},
   "outputs": [
    {
     "name": "stdout",
     "output_type": "stream",
     "text": [
      "3\n",
      "0b11\n",
      "0o3\n",
      "0x3\n",
      "<class 'int'>\n",
      "<class 'str'>\n",
      "<class 'str'>\n",
      "<class 'str'>\n",
      "-------------------------------------------\n",
      "complex(1, 2) = (1+2j)\n"
     ]
    }
   ],
   "source": [
    "import numpy as np\n",
    "import pandas as pd\n",
    "\n",
    "# int()   转换成十进制    \n",
    "# bin()   转换成二进制             /   0b   0B\n",
    "# oct()   转换成八进制             /   0o   0O\n",
    "# hex()   转换成十六进制           /   0x   0X\n",
    "\n",
    "print(int(0b0011))\n",
    "print(bin(0b0011))\n",
    "print(oct(0b0011))\n",
    "print(hex(0b0011))\n",
    "\n",
    "print(type(int(0b0011)))\n",
    "print(type(bin(0b0011)))         # 以字符串的形式返回\n",
    "print(type(oct(0b0011)))         # 以字符串的形式返回\n",
    "print(type(hex(0b0011)))         # 以字符串的形式返回\n",
    "\n",
    "# Python中的复数表示形式  a+bj   a表示实部，   b表示虚部     采用complex()\n",
    "print(\"-------------------------------------------\")\n",
    "x = complex(1, 2)\n",
    "print(\"complex(1, 2) =\", x)\n",
    "\n"
   ]
  },
  {
   "cell_type": "code",
   "execution_count": 28,
   "metadata": {},
   "outputs": [
    {
     "name": "stdout",
     "output_type": "stream",
     "text": [
      "2.5\n",
      "2\n",
      "\\n\\t\\\\\n",
      "字符串1=chenke,字符串2=123456\n",
      "字符串1=123456,字符串2=chenke\n",
      "字符串1=ck,字符串2=123\n"
     ]
    }
   ],
   "source": [
    "print(5/2)\n",
    "print(5//2)           # 此为整除运算\n",
    "\n",
    "print(r'\\n\\t\\\\')      # 前面加上r表示为原始字符串\n",
    "\n",
    "# 格式化字符串\n",
    "username = 'chenke'\n",
    "password = '123456'\n",
    "print(\"字符串1={},字符串2={}\".format(username, password))\n",
    "print(\"字符串1={1},字符串2={0}\".format(username, password))\n",
    "print(\"字符串1={username},字符串2={password}\".format(username='ck', password='123'))\n"
   ]
  },
  {
   "cell_type": "code",
   "execution_count": 39,
   "metadata": {},
   "outputs": [
    {
     "name": "stdout",
     "output_type": "stream",
     "text": [
      "  1 /  3 = 0.333333\n",
      "1          /          3 = 0.333333  \n",
      "++++1+++++ / ----3----- = 0.333333  \n"
     ]
    }
   ],
   "source": [
    "# 控制格式\n",
    "print('{x:3d} / {y:2d} = {z:2f}'.format(x=1, y=3, z=1/3))\n",
    "print('{x:<10d} / {y:>10d} = {z:<10f}'.format(x=1, y=3, z=1/3))        # <左对齐     >右对齐      10d为域宽\n",
    "print('{x:+^10d} / {y:-^10d} = {z:<10f}'.format(x=1, y=3, z=1/3))      # 虚位填充"
   ]
  },
  {
   "cell_type": "code",
   "execution_count": 51,
   "metadata": {},
   "outputs": [
    {
     "name": "stdout",
     "output_type": "stream",
     "text": [
      "b'\\xe9\\x99\\x88\\xe7\\x8f\\x82'\n",
      "b'\\xb3\\xc2\\xe7\\xe6'\n",
      "陈珂\n",
      "陈珂\n"
     ]
    }
   ],
   "source": [
    "# 运用encode编码，运用decode进行解码\n",
    "name = '陈珂'\n",
    "b1 = name.encode('utf-8')\n",
    "print(b1)\n",
    "\n",
    "b2 = name.encode('gbk')\n",
    "print(b2)\n",
    "\n",
    "print(b1.decode('utf-8'))\n",
    "print(b2.decode('gbk'))\n"
   ]
  },
  {
   "cell_type": "code",
   "execution_count": 2,
   "metadata": {},
   "outputs": [
    {
     "data": {
      "text/plain": [
       "6"
      ]
     },
     "execution_count": 2,
     "metadata": {},
     "output_type": "execute_result"
    }
   ],
   "source": [
    "name = b'chenke'              # 创建bites类型\n",
    "len(name)\n"
   ]
  },
  {
   "cell_type": "code",
   "execution_count": 4,
   "metadata": {},
   "outputs": [
    {
     "data": {
      "text/plain": [
       "[2, 5, 8, 12]"
      ]
     },
     "execution_count": 4,
     "metadata": {},
     "output_type": "execute_result"
    }
   ],
   "source": [
    "# 对列表的一个操作\n",
    "list = [5, 8, 10]\n",
    "list.append(12)\n",
    "list.remove(10)\n",
    "list.extend([88, 2])\n",
    "list.sort()\n",
    "word = list.pop()\n",
    "\n",
    "list"
   ]
  },
  {
   "cell_type": "code",
   "execution_count": 6,
   "metadata": {},
   "outputs": [
    {
     "name": "stdout",
     "output_type": "stream",
     "text": [
      "交集 {1, 5}\n",
      "并集 {1, 2, 3, 4, 5, 7, 8}\n"
     ]
    }
   ],
   "source": [
    "# 集合的交集和并集\n",
    "set1 = {1, 2, 3, 4, 5}\n",
    "set2 = {1, 5, 7, 8}\n",
    "\n",
    "print(\"交集\", set1 & set2)\n",
    "print(\"并集\", set1 | set2)"
   ]
  },
  {
   "cell_type": "code",
   "execution_count": 8,
   "metadata": {},
   "outputs": [
    {
     "data": {
      "text/plain": [
       "'e'"
      ]
     },
     "execution_count": 8,
     "metadata": {},
     "output_type": "execute_result"
    }
   ],
   "source": [
    "str = \"GetOneChar\"\n",
    "str[5]"
   ]
  },
  {
   "cell_type": "code",
   "execution_count": 10,
   "metadata": {},
   "outputs": [
    {
     "name": "stdout",
     "output_type": "stream",
     "text": [
      "0 | 2 | 4 | 6 | 8 | "
     ]
    }
   ],
   "source": [
    "# for 循环\n",
    "# range(开始，结束，跳跃步长)\n",
    "for z in range(0, 10, 2):\n",
    "    print(z, end=' | ')"
   ]
  },
  {
   "cell_type": "code",
   "execution_count": 28,
   "metadata": {},
   "outputs": [
    {
     "name": "stdout",
     "output_type": "stream",
     "text": [
      "第1个人是Marry\n",
      "第2个人是Jack\n",
      "第3个人是Rose\n",
      "第4个人是Aaron\n"
     ]
    }
   ],
   "source": [
    "# enumerate 迭代函数  效率较高   可以访问引索\n",
    "usernames = ['Marry', 'Jack', 'Rose', 'Aaron']\n",
    "for s, username in enumerate(usernames):\n",
    "    print(\"第{0}个人是{1}\".format(s+1, username))"
   ]
  },
  {
   "cell_type": "code",
   "execution_count": 2,
   "metadata": {},
   "outputs": [
    {
     "name": "stdout",
     "output_type": "stream",
     "text": [
      "('Marry', 'Jack', 'Rose', 'Aaron')\n",
      "<class 'tuple'>\n",
      "('Marry', 'Jack', 'Rose', 'Aaron')\n",
      "<class 'tuple'>\n"
     ]
    }
   ],
   "source": [
    "# 函数传参的方式\n",
    "def function(*param):\n",
    "    print(param)                                          # 传入的是列表，输出的元组\n",
    "    print(type(param))\n",
    "\n",
    "usernames = ['Marry', 'Jack', 'Rose', 'Aaron']\n",
    "data = {\"Marry\":30, \"Jack\":20, \"Rose\":18, \"Aaron\":45}\n",
    "function(*usernames)\n",
    "function(*data)\n",
    "\n"
   ]
  },
  {
   "cell_type": "code",
   "execution_count": 4,
   "metadata": {},
   "outputs": [
    {
     "name": "stdout",
     "output_type": "stream",
     "text": [
      "<class 'dict'>\n",
      "Marry的年龄是30\n",
      "Jack的年龄是20\n",
      "Rose的年龄是18\n",
      "Aaron的年龄是45\n"
     ]
    }
   ],
   "source": [
    "# 函数传参的方式\n",
    "def function(**param):                                          # 传入的是列表，输出的元组\n",
    "    print(type(param))\n",
    "    for key, value in param.items():\n",
    "        print(\"{}的年龄是{}\".format(key, value))\n",
    "\n",
    "data = {\"Marry\":30, \"Jack\":20, \"Rose\":18, \"Aaron\":45}\n",
    "function(**data)                                                # ** 一般用在字典上"
   ]
  },
  {
   "cell_type": "code",
   "execution_count": 6,
   "metadata": {},
   "outputs": [
    {
     "name": "stdout",
     "output_type": "stream",
     "text": [
      "18\n"
     ]
    }
   ],
   "source": [
    "# lambda 匿名函数的调用\n",
    "# 函数名 = lambda 参数 : 函数体\n",
    "count = lambda num_list : sum(num*2 for num in num_list)\n",
    "\n",
    "num_list = [2, 3, 4]\n",
    "result = count(num_list)\n",
    "print(result)\n"
   ]
  },
  {
   "cell_type": "code",
   "execution_count": 52,
   "metadata": {},
   "outputs": [
    {
     "name": "stdout",
     "output_type": "stream",
     "text": [
      "[12, 13, 14]\n",
      "45\n",
      "[2, 4, 6, 8, 10, 12, 14, 16, 18]\n",
      "['A', 'Z', 'O', 'P', 'U']\n",
      "从大到小： [100, 99, 99, 98, 95, 92, 64, 31]\n",
      "从小到大： [31, 64, 92, 95, 98, 99, 99, 100]\n",
      "从小到大进行排序： [('EEE', 45), ('AAA', 61), ('BBB', 65), ('DDD', 98), ('FFF', 99), ('CCC', 100)]\n"
     ]
    }
   ],
   "source": [
    "# map(函数， 数据) 函数\n",
    "\n",
    "l1 = [2, 3, 4]\n",
    "l2 = [10, 10, 10]\n",
    "\n",
    "result = map(lambda l1, l2: l1 + l2, l1, l2)\n",
    "print(list(result))\n",
    "\n",
    "\n",
    "from functools import reduce                             # reduce需要调用工具包\n",
    "\n",
    "\n",
    "# reduce 为累计运算函数\n",
    "print(reduce(lambda x,y:sum([x,y]),range(1,10)))\n",
    "# map 为map后两个参数的后一个参数作用与前一个参数\n",
    "print(list(map(lambda x,y:sum([x,y]),range(1,10),range(1,10))))\n",
    "\n",
    "\n",
    "\n",
    "# filter 函数   ————   filter(匿名函数， 数据)  匿名函数的返回值只能是True  or  False\n",
    "# 筛选出大写字母\n",
    "litter = ['a', 'A', 'Z', 'b', 'e', 'O', 'P', 'c', 'z','U','i']\n",
    "new_litter = filter(lambda x: True if x>='A' and x<='Z' else False, litter)\n",
    "print(list(new_litter))\n",
    "\n",
    "\n",
    "\n",
    "# sorted 函数  ————  （可迭代对象， key= , reverse= ,）\n",
    "score = [98, 95, 92, 99, 99, 31, 100, 64]\n",
    "print(\"从大到小：\" , sorted(score, reverse=True))\n",
    "print(\"从小到大：\", sorted(score))\n",
    "# 针对字典型数据\n",
    "# score = {'DDD':98, 'AAA':61, 'FFF':99, 'BBB':65, 'EEE':45, 'CCC':100}\n",
    "score = [('DDD', 98), ('AAA', 61), ('FFF', 99), ('BBB', 65), ('EEE', 45), ('CCC', 100)]\n",
    "print(\"从小到大进行排序：\", sorted(score, key=lambda x: x[1]))\n",
    "\n",
    "\n",
    "\n"
   ]
  },
  {
   "cell_type": "code",
   "execution_count": 93,
   "metadata": {},
   "outputs": [
    {
     "name": "stdout",
     "output_type": "stream",
     "text": [
      "1563609282.4007566\n",
      "time.struct_time(tm_year=2019, tm_mon=7, tm_mday=20, tm_hour=7, tm_min=54, tm_sec=42, tm_wday=5, tm_yday=201, tm_isdst=0)\n",
      "time.struct_time(tm_year=2019, tm_mon=7, tm_mday=20, tm_hour=15, tm_min=54, tm_sec=42, tm_wday=5, tm_yday=201, tm_isdst=0)\n",
      "Sat Jul 20 15:54:42 2019\n",
      "2019-07-20 15:54:42\n",
      "time.struct_time(tm_year=2019, tm_mon=7, tm_mday=20, tm_hour=15, tm_min=52, tm_sec=14, tm_wday=5, tm_yday=201, tm_isdst=-1)\n"
     ]
    }
   ],
   "source": [
    "# time 模块\n",
    "import time\n",
    "\n",
    "print(time.time())              # 获取时间搓  以1970年1月1日 为起点\n",
    "print(time.gmtime())            # 获取 UTC时间 协调世界时，又称世界统一时间   这是一种绝对时间，与时区无关\n",
    "print(time.localtime())         # 获取当前时区所在的时间\n",
    "\n",
    "# 人性化显示时间字符串\n",
    "print(time.asctime(time.localtime()))\n",
    "\n",
    "\n",
    "# 自定义时间显示格式\n",
    "print(time.strftime('%Y-%m-%d %H:%M:%S', time.localtime()))\n",
    "# 解析当前时间字符串为一个struct类型的字符串\n",
    "print(time.strptime('2019-07-20 15:52:14', '%Y-%m-%d %H:%M:%S'))"
   ]
  },
  {
   "cell_type": "code",
   "execution_count": 117,
   "metadata": {},
   "outputs": [
    {
     "name": "stdout",
     "output_type": "stream",
     "text": [
      "2019-01-01\n",
      "10:12:13\n",
      "2019-07-20 16:10:28.777104\n",
      "2019-07-20 16:10:28.777103\n",
      "==========================================\n",
      "将 时间搓 转化为 date 对象：\n",
      "2019-07-20 16:10:28.777104\n"
     ]
    }
   ],
   "source": [
    "# datatime模块   重新封装了time模块，提供更多接口\n",
    "import datetime \n",
    "import time\n",
    "\n",
    "# 设置日期\n",
    "df1 = datetime.date(2019, 1, 1)\n",
    "print(df1)\n",
    "# 设置时间\n",
    "df2 = datetime.time(10, 12, 13)\n",
    "print(df2)\n",
    "# 获取信息\n",
    "print(datetime.datetime.today())\n",
    "print(datetime.datetime.now())\n",
    "\n",
    "print(\"==========================================\")\n",
    "print(\"将 时间搓 转化为 date 对象：\")\n",
    "timestamp = time.time()\n",
    "print(datetime.datetime.fromtimestamp(timestamp))\n",
    "\n",
    "\n"
   ]
  },
  {
   "cell_type": "code",
   "execution_count": 22,
   "metadata": {},
   "outputs": [
    {
     "name": "stdout",
     "output_type": "stream",
     "text": [
      "主线程开始\n",
      "第1个线程已经开启，当前的时间为1563624934.3530807\n",
      "\n",
      "\n",
      "第2个线程已经开启，当前的时间为1563624934.368682\n",
      "第3个线程已经开启，当前的时间为1563624934.3999324\n",
      "\n",
      "\n",
      "第4个线程已经开启，当前的时间为1563624934.4311771\n",
      "\n",
      "第1个线程结束......\n",
      "\n",
      "第2个线程结束......\n",
      "\n",
      "第3个线程结束......\n",
      "\n",
      "第4个线程结束......\n",
      "\n",
      "主线程结束\n"
     ]
    }
   ],
   "source": [
    "# Python 多线程\n",
    "# GIL全局解释器锁   任意时刻 Python解释器只能执行一个线程\n",
    "from random import randint          # randint(low, high)  在[low, high)区间内随机产生一个数\n",
    "# threading.Thread(target=function_name, args=(function_parameter1, function_parameterN))\n",
    "\n",
    "\n",
    "\n",
    "\n",
    "\n",
    "# 创建线程\n",
    "import threading, time, datetime\n",
    "\n",
    "\n",
    "def information(second, index):\n",
    "    print(\"第{}个线程已经开启，当前的时间为{}\\n\".format(index, time.time()))\n",
    "#     for t in range(3):\n",
    "#         time.sleep(second)\n",
    "#         print(\"第{}个线程正在执行中......\\n\".format(index))\n",
    "    time.sleep(second)\n",
    "    print(\"第{}个线程结束......\\n\".format(index))\n",
    "\n",
    "def main():\n",
    "    threads = []\n",
    "    thread_num = 4\n",
    "    \n",
    "    print(\"主线程开始\\n\")\n",
    "    for i in range(thread_num):\n",
    "        # information为需要线程去执行的方法名\n",
    "        thread = threading.Thread(target=information, args=(2, i+1))\n",
    "        threads.append(thread)\n",
    "\n",
    "    for x in range(thread_num):\n",
    "        threads[x].start()\n",
    "    \n",
    "    for y in range(thread_num):\n",
    "        threads[y].join()                          # join()使得主进程在所有线程结束后，才会结束\n",
    "        \n",
    "    print(\"主线程结束\")\n",
    "\n",
    "if __name__ == '__main__':\n",
    "    main()"
   ]
  },
  {
   "cell_type": "code",
   "execution_count": 38,
   "metadata": {},
   "outputs": [],
   "source": [
    "# 通过 加锁 来解决   线程同步问题\n",
    "import numpy as np\n",
    "import threading\n",
    "import time, datetime\n",
    "\n",
    "lock = threading.Lock()                                # 获取线程同步锁\n",
    "thread_name = set()                                   # 线程名称集合\n",
    "\n",
    "def func(second):\n",
    "    lock.acquire()\n",
    "    print('线程{}开启执行'.format(threading.current_thread().name))\n",
    "    thread_name.add(threading.current_thread().name)\n",
    "    lock.release()\n",
    "    time.sleep(second)\n",
    "    lock.acquire()\n",
    "    print('线程{}结束'.format(threading.current_thread().name))\n",
    "    thread_name.remove(threading.current_thread().name)\n",
    "    lock.release()\n",
    "    \n",
    "    \n",
    "\n",
    "\n",
    "def main():\n",
    "    thread_num = 5\n",
    "    \n",
    "    for i in range(thread_num):\n",
    "        threading.Thread(target=func, args=(2,)).start()\n",
    "    \n",
    "if __name__ == '__main__':\n",
    "    main()\n",
    "\n",
    "\n"
   ]
  }
 ],
 "metadata": {
  "kernelspec": {
   "display_name": "Python 3",
   "language": "python",
   "name": "python3"
  },
  "language_info": {
   "codemirror_mode": {
    "name": "ipython",
    "version": 3
   },
   "file_extension": ".py",
   "mimetype": "text/x-python",
   "name": "python",
   "nbconvert_exporter": "python",
   "pygments_lexer": "ipython3",
   "version": "3.6.3"
  }
 },
 "nbformat": 4,
 "nbformat_minor": 2
}
