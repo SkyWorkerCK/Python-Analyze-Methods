{
 "cells": [
  {
   "cell_type": "code",
   "execution_count": 7,
   "metadata": {},
   "outputs": [
    {
     "data": {
      "text/plain": [
       "0    4\n",
       "1    5\n",
       "2   -7\n",
       "3    0\n",
       "dtype: int64"
      ]
     },
     "execution_count": 7,
     "metadata": {},
     "output_type": "execute_result"
    }
   ],
   "source": [
    "import pandas as pd\n",
    "from pandas import Series, DataFrame\n",
    "\n",
    "s = Series([4, 5, -7, 0])\n",
    "s\n"
   ]
  },
  {
   "cell_type": "code",
   "execution_count": 32,
   "metadata": {},
   "outputs": [
    {
     "name": "stdout",
     "output_type": "stream",
     "text": [
      "a    4\n",
      "b    5\n",
      "c   -7\n",
      "d    0\n",
      "dtype: int64\n",
      "=====================================\n",
      "s['a'] = 4\n",
      "=====================================\n",
      "\n",
      "a    4\n",
      "b    5\n",
      "d    0\n",
      "dtype: int64\n",
      "a     8\n",
      "b    10\n",
      "c   -14\n",
      "d     0\n",
      "dtype: int64\n"
     ]
    }
   ],
   "source": [
    "import pandas as pd\n",
    "from pandas import Series, DataFrame\n",
    "\n",
    "s = Series([4, 5, -7, 0], index = ['a', 'b', 'c', 'd'])    # 更改其引索标记\n",
    "print(s)\n",
    "\n",
    "# 根据引索进行  值查找\n",
    "print('=====================================')\n",
    "print(\"s['a'] = %d\" % s['a'])\n",
    "\n",
    "\n",
    "# 还能进行值筛选\n",
    "print('=====================================')\n",
    "print()\n",
    "print(s[s >= 0])\n",
    "\n",
    "print(s * 2)    # s中的每一个数乘以2\n"
   ]
  },
  {
   "cell_type": "code",
   "execution_count": 1,
   "metadata": {},
   "outputs": [
    {
     "name": "stdout",
     "output_type": "stream",
     "text": [
      "Aaron    23\n",
      "Jack     41\n",
      "Marth    20\n",
      "Mary     35\n",
      "dtype: int64\n",
      "=================================\n",
      "Marth    20.0\n",
      "Mary     35.0\n",
      "Jack     41.0\n",
      "Joe       NaN\n",
      "dtype: float64\n",
      "=================================\n",
      "Aaron    False\n",
      "Jack     False\n",
      "Marth    False\n",
      "Mary     False\n",
      "dtype: bool\n",
      "=================================\n",
      "Marth     True\n",
      "Mary      True\n",
      "Jack      True\n",
      "Joe      False\n",
      "dtype: bool\n",
      "=================================\n",
      "Aaron     NaN\n",
      "Jack     82.0\n",
      "Joe       NaN\n",
      "Marth    40.0\n",
      "Mary     70.0\n",
      "dtype: float64\n"
     ]
    }
   ],
   "source": [
    "import numpy as np\n",
    "import pandas as pd\n",
    "from pandas import Series, DataFrame\n",
    "\n",
    "# exp：高等数学里以自然常数e为底的指数函数\n",
    "# np.exp(1)\n",
    "\n",
    "\n",
    "\n",
    "# 字典类型的数据也可以Series化\n",
    "dic = {'Aaron':23, 'Marth':20, 'Mary':35, 'Jack':41}\n",
    "ax1 = Series(dic)\n",
    "print(ax1)\n",
    "\n",
    "\n",
    "print('=================================')\n",
    "\n",
    "# name中的值将会与dic中的引索进行比对，存在的将会显示出来，不存在的用NAN表示\n",
    "name = ['Marth', 'Mary', 'Jack', 'Joe']\n",
    "ax2 = Series(dic, index=name)\n",
    "print(ax2)\n",
    "\n",
    "\n",
    "\n",
    "# Series中的数据缺失检测\n",
    "print('=================================')\n",
    "print(pd.isnull(ax1))\n",
    "print('=================================')\n",
    "print(pd.notnull(ax2))\n",
    "\n",
    "\n",
    "\n",
    "# Series的一个很大的优点就是可以自动对齐功能\n",
    "print('=================================')\n",
    "print(ax1 + ax2)\n",
    "\n",
    "\n",
    "\n",
    "\n"
   ]
  },
  {
   "cell_type": "code",
   "execution_count": 6,
   "metadata": {},
   "outputs": [
    {
     "data": {
      "text/plain": [
       "a    4\n",
       "b    5\n",
       "c   -7\n",
       "d    1\n",
       "dtype: int64"
      ]
     },
     "execution_count": 6,
     "metadata": {},
     "output_type": "execute_result"
    }
   ],
   "source": [
    "import pandas as pd\n",
    "from pandas import Series, DataFrame\n",
    "import numpy as np\n",
    "\n",
    "# 可以通过引用对象进行修改引索\n",
    "obj = Series([4, 5, -7, 1])\n",
    "obj.index = ['a', 'b', 'c', 'd']\n",
    "obj"
   ]
  },
  {
   "cell_type": "code",
   "execution_count": 32,
   "metadata": {},
   "outputs": [
    {
     "name": "stdout",
     "output_type": "stream",
     "text": [
      "   one  three  two\n",
      "0    1     10    7\n",
      "1    2     45    8\n",
      "2    5     -4    5\n",
      "3    6     -8    6\n",
      "====================================\n",
      "修改\n",
      "   four  five  six\n",
      "0     1    10    7\n",
      "1     2    45    8\n",
      "2     5    -4    5\n",
      "3     6    -8    6\n",
      "====================================\n",
      "   four  five  six\n",
      "a     1    10    7\n",
      "b     2    45    8\n",
      "c     5    -4    5\n",
      "d     6    -8    6\n",
      "====================================\n",
      "   five  six\n",
      "a    10    7\n",
      "b    45    8\n",
      "c    -4    5\n",
      "d    -8    6\n",
      "====================================\n",
      "====================================\n",
      "   one  three  two\n",
      "0    1     10    7\n",
      "1    2     45    8\n",
      "2    5     -4    5\n",
      "3    6     -8    6\n",
      "------------------------------------\n",
      "        0   1  2  3\n",
      "one     1   2  5  6\n",
      "three  10  45 -4 -8\n",
      "two     7   8  5  6\n",
      "------------------------------------\n",
      "数字  one  three  two\n",
      "引索                 \n",
      "0     1     10    7\n",
      "1     2     45    8\n",
      "2     5     -4    5\n",
      "3     6     -8    6\n"
     ]
    },
    {
     "data": {
      "text/plain": [
       "array([[ 1, 10,  7],\n",
       "       [ 2, 45,  8],\n",
       "       [ 5, -4,  5],\n",
       "       [ 6, -8,  6]], dtype=int64)"
      ]
     },
     "execution_count": 32,
     "metadata": {},
     "output_type": "execute_result"
    }
   ],
   "source": [
    "import pandas as pd\n",
    "import matplotlib.pyplot as plt\n",
    "import numpy as np\n",
    "from pandas import Series, DataFrame\n",
    "\n",
    "\n",
    "# DataFrame是一个表格型的数据结构\n",
    "# 可以直接传入一个字典类型的数据\n",
    "data = {'one': [1, 2, 5, 6],\n",
    "        'two': [7, 8, 5, 6],\n",
    "        'three': [10, 45, -4, -8]}\n",
    "\n",
    "df = DataFrame(data)\n",
    "print(df)\n",
    "\n",
    "print(\"====================================\")\n",
    "\n",
    "print(\"修改\")\n",
    "\n",
    "df.columns = ['four', 'five', 'six']\n",
    "print(df)\n",
    "\n",
    "print(\"====================================\")\n",
    "\n",
    "df.index = ['a', 'b', 'c', 'd']\n",
    "print(df)\n",
    "\n",
    "print(\"====================================\")\n",
    "df.name = 'Aaron'\n",
    "df                                                           # 此返回的是一个Series类型\n",
    "\n",
    "del df['four']                                               # 可以通过关键字  del  删除某一列\n",
    "print(df)\n",
    "\n",
    "print(\"====================================\")\n",
    "\n",
    "data = {'one': [1, 2, 5, 6],\n",
    "        'two': [7, 8, 5, 6],\n",
    "        'three': [10, 45, -4, -8]}\n",
    "\n",
    "\n",
    "print(\"====================================\")\n",
    "\n",
    "\n",
    "data = DataFrame(data)\n",
    "print(data)\n",
    "print(\"------------------------------------\")\n",
    "print(data.T)                                                # data.T 实现矩阵转置\n",
    "\n",
    "\n",
    "# 设置index和columns的属性\n",
    "data.index.name = '引索'\n",
    "data.columns.name = '数字'\n",
    "print(\"------------------------------------\")\n",
    "print(data)\n",
    "\n",
    "\n",
    "data.values                                                 # 以二维数组的形式返回"
   ]
  },
  {
   "cell_type": "code",
   "execution_count": 40,
   "metadata": {},
   "outputs": [
    {
     "data": {
      "text/plain": [
       "False"
      ]
     },
     "execution_count": 40,
     "metadata": {},
     "output_type": "execute_result"
    }
   ],
   "source": [
    "import pandas as pd\n",
    "import numpy as np\n",
    "from pandas import Series, DataFrame\n",
    "\n",
    "data = {'one': [1, 2, 5, 6],\n",
    "        'two': [7, 8, 5, 6],\n",
    "        'three': [10, 45, -4, -8]}\n",
    "\n",
    "data = DataFrame(data)\n",
    "data.index = ['a', 'b', 'c', 'd']\n",
    "data\n",
    "\n",
    "\n",
    "# 查找类回复\n",
    "'ten' in data.columns\n"
   ]
  },
  {
   "cell_type": "code",
   "execution_count": 82,
   "metadata": {},
   "outputs": [
    {
     "name": "stdout",
     "output_type": "stream",
     "text": [
      "   Scores\n",
      "0     305\n",
      "1     312\n",
      "2     315\n",
      "3     319\n",
      "4     301\n",
      "5     338\n",
      "6     321\n",
      "7     339\n",
      "8     339\n",
      "9     338\n",
      "========================\n",
      "A = 2, B = 3, C = 1, D = 4\n",
      "========================\n"
     ]
    },
    {
     "data": {
      "image/png": "[encoded data removed]",
      "text/plain": [
       "<matplotlib.figure.Figure at 0x22bc3198a20>"
      ]
     },
     "metadata": {},
     "output_type": "display_data"
    }
   ],
   "source": [
    "import numpy as np\n",
    "import matplotlib.pyplot as plt\n",
    "import pandas as pd\n",
    "from pandas import Series, DataFrame\n",
    "\n",
    "\n",
    "# 对考研分数的的统计\n",
    "data = DataFrame([305, 312, 315, 319, 301, 338, 321, 339, 339, 338], columns=['Scores'])\n",
    "print(data)\n",
    "\n",
    "# A —— 300~310\n",
    "# B —— 310~320\n",
    "# C —— 320~330\n",
    "# D —— 330~340\n",
    "\n",
    "print(\"========================\")\n",
    "\n",
    "arg = data.values\n",
    "A = 0\n",
    "B = 0\n",
    "C = 0\n",
    "D = 0\n",
    "\n",
    "for i in range(arg.shape[0]):\n",
    "    for j in range(arg.shape[1]):\n",
    "        if arg[i][j]>300 and arg[i][j]<310 :\n",
    "            A = A + 1\n",
    "        elif arg[i][j]>310 and arg[i][j]<320 :\n",
    "            B = B + 1\n",
    "        elif arg[i][j]>320 and arg[i][j]<330 :\n",
    "            C = C + 1\n",
    "        elif arg[i][j]>330 and arg[i][j]<340 :\n",
    "            D = D + 1\n",
    "            \n",
    "print(\"A = %d, B = %d, C = %d, D = %d\" % (A, B, C, D))\n",
    "value = []\n",
    "value.append(A)\n",
    "value.append(B)\n",
    "value.append(C)\n",
    "value.append(D)\n",
    "\n",
    "\n",
    "print(\"========================\")\n",
    "\n",
    "fig, axes = plt.subplots(1, 1, figsize=(5, 5))\n",
    "img = Series(value, index = ['300~310', '310~320', '320~330', '330~340'])\n",
    "img.plot(kind = 'bar', alpha = 0.5)\n",
    "plt.xticks(rotation = 0.5)\n",
    "\n",
    "plt.show()"
   ]
  },
  {
   "cell_type": "code",
   "execution_count": 88,
   "metadata": {},
   "outputs": [],
   "source": [
    "import numpy as np\n",
    "import matplotlib.pyplot as plt\n",
    "import pandas as pd\n",
    "from pandas import Series, DataFrame\n",
    "\n",
    "# np.arange(5.) 表示生成array([0., 1., 2., 3., 4.])\n",
    "# DataFrame 丢弃某一项的值\n"
   ]
  }
 ],
 "metadata": {
  "kernelspec": {
   "display_name": "Python 3",
   "language": "python",
   "name": "python3"
  },
  "language_info": {
   "codemirror_mode": {
    "name": "ipython",
    "version": 3
   },
   "file_extension": ".py",
   "mimetype": "text/x-python",
   "name": "python",
   "nbconvert_exporter": "python",
   "pygments_lexer": "ipython3",
   "version": "3.6.3"
  }
 },
 "nbformat": 4,
 "nbformat_minor": 2
}
