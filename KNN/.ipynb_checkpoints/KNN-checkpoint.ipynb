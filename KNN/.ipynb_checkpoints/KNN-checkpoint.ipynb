{
 "cells": [
  {
   "cell_type": "code",
   "execution_count": 49,
   "metadata": {},
   "outputs": [
    {
     "data": {
      "image/png": "[encoded data removed]",
      "text/plain": [
       "<matplotlib.figure.Figure at 0x118b2b7b908>"
      ]
     },
     "metadata": {},
     "output_type": "display_data"
    },
    {
     "name": "stdout",
     "output_type": "stream",
     "text": [
      "对点[[5 6 8]]的预测结果为：B类\n"
     ]
    },
    {
     "data": {
      "image/png": "[encoded data removed]",
      "text/plain": [
       "<matplotlib.figure.Figure at 0x118b2d339e8>"
      ]
     },
     "metadata": {},
     "output_type": "display_data"
    }
   ],
   "source": [
    "import numpy as np\n",
    "import matplotlib.pyplot as plt\n",
    "import pandas as pd\n",
    "import math\n",
    "%matplotlib inline\n",
    "\n",
    "\n",
    "\"\"\"\n",
    "\n",
    "                                        散点图plt.scatter的一些属性：\n",
    "                                        x：指定散点图的x轴数据；\n",
    "                                        y：指定散点图的y轴数据；\n",
    "                                        s：指定散点图点的大小，默认为20，通过传入新的变量，实现气泡图的绘制；\n",
    "                                        c：可用于不同类别的颜色，指定散点图点的颜色，默认为蓝色；\n",
    "                                        marker：指定散点图点的形状，默认为圆形；\n",
    "                                        cmap：指定色图，只有当c参数是一个浮点型的数组的时候才起作用；\n",
    "                                        alpha：设置散点的透明度；\n",
    "                                        linewidths：设置散点边界线的宽度；\n",
    "                                        edgecolors：设置散点边界线的颜色；\n",
    "\n",
    "\"\"\"\n",
    "\n",
    "\n",
    "\n",
    "\"\"\"计算欧氏距离\"\"\"\n",
    "def ComputingEuroDistance(datasets, labels, NewVec):\n",
    "    row, col = datasets.shape\n",
    "    NewVec = np.tile(NewVec, (row, 1))\n",
    "    distance = datasets - NewVec\n",
    "    sqDistance = distance ** 2\n",
    "    ResSum = sqDistance.sum(axis = 1)                                           # 求矩阵每一行的和\n",
    "    Res = np.sqrt(ResSum)\n",
    "    \n",
    "    return Res\n",
    "            \n",
    "    \n",
    "\"\"\"图像可视化\"\"\"\n",
    "def Plot(datasets, labels, m):\n",
    "    plt.figure()\n",
    "    row, col = datasets.shape\n",
    "    ax = plt.subplot(1,2,m)\n",
    "    for i in range(row):\n",
    "        if labels[i] == 'A':\n",
    "            plt.scatter(datasets[i,0], datasets[i,1], c='red')\n",
    "        elif labels[i] == 'B':\n",
    "            plt.scatter(datasets[i,0], datasets[i,1], c='yellow')\n",
    "    plt.show()\n",
    "    \n",
    "    \n",
    "\"\"\"主函数\"\"\"\n",
    "if __name__=='__main__':\n",
    "    import operator\n",
    "    datasets = np.array([[2,5,6],[3,1,3],[9,8,6],[10,6,9]])                     # 数据集\n",
    "    labels = ['A', 'A', 'B', 'B']                                               # 标签集\n",
    "    k = 3                                                                       # 指定最短的前 3 个\n",
    "    \n",
    "    \n",
    "    \n",
    "    # 在主函数中完成　KNN　算法\n",
    "    NewVec = np.array([[5,6,8]])                                                # 待判断的数据点\n",
    "    distances = ComputingEuroDistance(datasets, labels, NewVec)                 # 计算NewVec到所有其它节点的欧氏距离\n",
    "    sort = distances.argsort()                                                  # 对距离进行按照从小到大的顺序进行排序\n",
    "#     print(sort)\n",
    "    classCount = {}                                                             # 统计前 k 个键值对的数量\n",
    "    for i in range(k):\n",
    "        label = labels[sort[i]]\n",
    "        classCount[label] = classCount.get(label, 0) + 1\n",
    "#     print(classCount)                                                         # 打印字典\n",
    "    \n",
    "    \n",
    "    # 投票机制  ——————  少数服从多数\n",
    "    # 对各个分类字典进行分类排序\n",
    "    Count = sorted(classCount.items(), key = operator.itemgetter(1), reverse = True)\n",
    "    \n",
    "    \n",
    "    # 对原数据可视化数据\n",
    "    Plot(datasets, labels, 1)\n",
    "    \n",
    "    \n",
    "    # 预测\n",
    "    print('对点{}的预测结果为：{}类'.format(NewVec, Count[0][0]))\n",
    "    \n",
    "    \n",
    "    # 对新增数据点后进行可视化\n",
    "    row, col = datasets.shape\n",
    "    datasets = np.insert(datasets, 4, NewVec, 0)                                # datasets为原矩阵，row为将要插入第几行，NewVec为被插入向量， 0表示插入行，1表示插入列\n",
    "    labels.append(Count[0][0])\n",
    "    Plot(datasets, labels, 2)\n",
    "    \n",
    "                   "
   ]
  },
  {
   "cell_type": "code",
   "execution_count": null,
   "metadata": {},
   "outputs": [],
   "source": []
  }
 ],
 "metadata": {
  "kernelspec": {
   "display_name": "Python 3",
   "language": "python",
   "name": "python3"
  },
  "language_info": {
   "codemirror_mode": {
    "name": "ipython",
    "version": 3
   },
   "file_extension": ".py",
   "mimetype": "text/x-python",
   "name": "python",
   "nbconvert_exporter": "python",
   "pygments_lexer": "ipython3",
   "version": "3.6.3"
  }
 },
 "nbformat": 4,
 "nbformat_minor": 2
}
